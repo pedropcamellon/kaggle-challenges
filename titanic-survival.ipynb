{
 "cells": [
  {
   "cell_type": "code",
   "execution_count": 1,
   "metadata": {
    "_cell_guid": "6ddc7fd9-85ae-404c-892b-be7624dcec94",
    "_uuid": "2b1e2b5e-a999-411b-8d75-e05749292e8c",
    "collapsed": false,
    "execution": {
     "iopub.execute_input": "2024-09-26T00:40:37.118618Z",
     "iopub.status.busy": "2024-09-26T00:40:37.118265Z",
     "iopub.status.idle": "2024-09-26T00:40:37.126108Z",
     "shell.execute_reply": "2024-09-26T00:40:37.124805Z",
     "shell.execute_reply.started": "2024-09-26T00:40:37.118565Z"
    },
    "jupyter": {
     "outputs_hidden": false
    }
   },
   "outputs": [],
   "source": [
    "from scipy.stats import randint\n",
    "from sklearn.ensemble import RandomForestClassifier\n",
    "from sklearn.metrics import accuracy_score\n",
    "from sklearn.metrics import confusion_matrix\n",
    "from sklearn.model_selection import cross_val_score\n",
    "from sklearn.model_selection import RandomizedSearchCV\n",
    "import matplotlib.pyplot as plt\n",
    "import pandas as pd\n",
    "import seaborn as sns"
   ]
  },
  {
   "cell_type": "code",
   "execution_count": 2,
   "metadata": {
    "_cell_guid": "4cfa7cda-792a-416e-8236-590c5db1e0e4",
    "_uuid": "0524fe71-fb27-43b0-a4ed-dcb53da27192",
    "collapsed": false,
    "execution": {
     "iopub.execute_input": "2024-09-26T00:40:37.128863Z",
     "iopub.status.busy": "2024-09-26T00:40:37.128487Z",
     "iopub.status.idle": "2024-09-26T00:40:37.166860Z",
     "shell.execute_reply": "2024-09-26T00:40:37.165930Z",
     "shell.execute_reply.started": "2024-09-26T00:40:37.128799Z"
    },
    "jupyter": {
     "outputs_hidden": false
    }
   },
   "outputs": [
    {
     "data": {
      "text/html": [
       "<div>\n",
       "<style scoped>\n",
       "    .dataframe tbody tr th:only-of-type {\n",
       "        vertical-align: middle;\n",
       "    }\n",
       "\n",
       "    .dataframe tbody tr th {\n",
       "        vertical-align: top;\n",
       "    }\n",
       "\n",
       "    .dataframe thead th {\n",
       "        text-align: right;\n",
       "    }\n",
       "</style>\n",
       "<table border=\"1\" class=\"dataframe\">\n",
       "  <thead>\n",
       "    <tr style=\"text-align: right;\">\n",
       "      <th></th>\n",
       "      <th>PassengerId</th>\n",
       "      <th>Survived</th>\n",
       "      <th>Pclass</th>\n",
       "      <th>Name</th>\n",
       "      <th>Sex</th>\n",
       "      <th>Age</th>\n",
       "      <th>SibSp</th>\n",
       "      <th>Parch</th>\n",
       "      <th>Ticket</th>\n",
       "      <th>Fare</th>\n",
       "      <th>Cabin</th>\n",
       "      <th>Embarked</th>\n",
       "    </tr>\n",
       "  </thead>\n",
       "  <tbody>\n",
       "    <tr>\n",
       "      <td>0</td>\n",
       "      <td>1</td>\n",
       "      <td>0</td>\n",
       "      <td>3</td>\n",
       "      <td>Braund, Mr. Owen Harris</td>\n",
       "      <td>male</td>\n",
       "      <td>22.0</td>\n",
       "      <td>1</td>\n",
       "      <td>0</td>\n",
       "      <td>A/5 21171</td>\n",
       "      <td>7.2500</td>\n",
       "      <td>NaN</td>\n",
       "      <td>S</td>\n",
       "    </tr>\n",
       "    <tr>\n",
       "      <td>1</td>\n",
       "      <td>2</td>\n",
       "      <td>1</td>\n",
       "      <td>1</td>\n",
       "      <td>Cumings, Mrs. John Bradley (Florence Briggs Th...</td>\n",
       "      <td>female</td>\n",
       "      <td>38.0</td>\n",
       "      <td>1</td>\n",
       "      <td>0</td>\n",
       "      <td>PC 17599</td>\n",
       "      <td>71.2833</td>\n",
       "      <td>C85</td>\n",
       "      <td>C</td>\n",
       "    </tr>\n",
       "    <tr>\n",
       "      <td>2</td>\n",
       "      <td>3</td>\n",
       "      <td>1</td>\n",
       "      <td>3</td>\n",
       "      <td>Heikkinen, Miss. Laina</td>\n",
       "      <td>female</td>\n",
       "      <td>26.0</td>\n",
       "      <td>0</td>\n",
       "      <td>0</td>\n",
       "      <td>STON/O2. 3101282</td>\n",
       "      <td>7.9250</td>\n",
       "      <td>NaN</td>\n",
       "      <td>S</td>\n",
       "    </tr>\n",
       "    <tr>\n",
       "      <td>3</td>\n",
       "      <td>4</td>\n",
       "      <td>1</td>\n",
       "      <td>1</td>\n",
       "      <td>Futrelle, Mrs. Jacques Heath (Lily May Peel)</td>\n",
       "      <td>female</td>\n",
       "      <td>35.0</td>\n",
       "      <td>1</td>\n",
       "      <td>0</td>\n",
       "      <td>113803</td>\n",
       "      <td>53.1000</td>\n",
       "      <td>C123</td>\n",
       "      <td>S</td>\n",
       "    </tr>\n",
       "    <tr>\n",
       "      <td>4</td>\n",
       "      <td>5</td>\n",
       "      <td>0</td>\n",
       "      <td>3</td>\n",
       "      <td>Allen, Mr. William Henry</td>\n",
       "      <td>male</td>\n",
       "      <td>35.0</td>\n",
       "      <td>0</td>\n",
       "      <td>0</td>\n",
       "      <td>373450</td>\n",
       "      <td>8.0500</td>\n",
       "      <td>NaN</td>\n",
       "      <td>S</td>\n",
       "    </tr>\n",
       "  </tbody>\n",
       "</table>\n",
       "</div>"
      ],
      "text/plain": [
       "   PassengerId  Survived  Pclass  \\\n",
       "0            1         0       3   \n",
       "1            2         1       1   \n",
       "2            3         1       3   \n",
       "3            4         1       1   \n",
       "4            5         0       3   \n",
       "\n",
       "                                                Name     Sex   Age  SibSp  \\\n",
       "0                            Braund, Mr. Owen Harris    male  22.0      1   \n",
       "1  Cumings, Mrs. John Bradley (Florence Briggs Th...  female  38.0      1   \n",
       "2                             Heikkinen, Miss. Laina  female  26.0      0   \n",
       "3       Futrelle, Mrs. Jacques Heath (Lily May Peel)  female  35.0      1   \n",
       "4                           Allen, Mr. William Henry    male  35.0      0   \n",
       "\n",
       "   Parch            Ticket     Fare Cabin Embarked  \n",
       "0      0         A/5 21171   7.2500   NaN        S  \n",
       "1      0          PC 17599  71.2833   C85        C  \n",
       "2      0  STON/O2. 3101282   7.9250   NaN        S  \n",
       "3      0            113803  53.1000  C123        S  \n",
       "4      0            373450   8.0500   NaN        S  "
      ]
     },
     "execution_count": 2,
     "metadata": {},
     "output_type": "execute_result"
    }
   ],
   "source": [
    "## Load the data\n",
    "train_data = pd.read_csv(\"/kaggle/input/titanic/train.csv\")\n",
    "train_data.head()"
   ]
  },
  {
   "cell_type": "code",
   "execution_count": 3,
   "metadata": {
    "_cell_guid": "4e5724ef-0418-4e30-9f4e-ec56bc628987",
    "_uuid": "ec1908a2-fbbb-4e1a-8414-587284261412",
    "collapsed": false,
    "execution": {
     "iopub.execute_input": "2024-09-26T00:40:37.168613Z",
     "iopub.status.busy": "2024-09-26T00:40:37.168335Z",
     "iopub.status.idle": "2024-09-26T00:40:37.195253Z",
     "shell.execute_reply": "2024-09-26T00:40:37.194400Z",
     "shell.execute_reply.started": "2024-09-26T00:40:37.168566Z"
    },
    "jupyter": {
     "outputs_hidden": false
    }
   },
   "outputs": [
    {
     "data": {
      "text/html": [
       "<div>\n",
       "<style scoped>\n",
       "    .dataframe tbody tr th:only-of-type {\n",
       "        vertical-align: middle;\n",
       "    }\n",
       "\n",
       "    .dataframe tbody tr th {\n",
       "        vertical-align: top;\n",
       "    }\n",
       "\n",
       "    .dataframe thead th {\n",
       "        text-align: right;\n",
       "    }\n",
       "</style>\n",
       "<table border=\"1\" class=\"dataframe\">\n",
       "  <thead>\n",
       "    <tr style=\"text-align: right;\">\n",
       "      <th></th>\n",
       "      <th>PassengerId</th>\n",
       "      <th>Pclass</th>\n",
       "      <th>Name</th>\n",
       "      <th>Sex</th>\n",
       "      <th>Age</th>\n",
       "      <th>SibSp</th>\n",
       "      <th>Parch</th>\n",
       "      <th>Ticket</th>\n",
       "      <th>Fare</th>\n",
       "      <th>Cabin</th>\n",
       "      <th>Embarked</th>\n",
       "    </tr>\n",
       "  </thead>\n",
       "  <tbody>\n",
       "    <tr>\n",
       "      <td>0</td>\n",
       "      <td>892</td>\n",
       "      <td>3</td>\n",
       "      <td>Kelly, Mr. James</td>\n",
       "      <td>male</td>\n",
       "      <td>34.5</td>\n",
       "      <td>0</td>\n",
       "      <td>0</td>\n",
       "      <td>330911</td>\n",
       "      <td>7.8292</td>\n",
       "      <td>NaN</td>\n",
       "      <td>Q</td>\n",
       "    </tr>\n",
       "    <tr>\n",
       "      <td>1</td>\n",
       "      <td>893</td>\n",
       "      <td>3</td>\n",
       "      <td>Wilkes, Mrs. James (Ellen Needs)</td>\n",
       "      <td>female</td>\n",
       "      <td>47.0</td>\n",
       "      <td>1</td>\n",
       "      <td>0</td>\n",
       "      <td>363272</td>\n",
       "      <td>7.0000</td>\n",
       "      <td>NaN</td>\n",
       "      <td>S</td>\n",
       "    </tr>\n",
       "    <tr>\n",
       "      <td>2</td>\n",
       "      <td>894</td>\n",
       "      <td>2</td>\n",
       "      <td>Myles, Mr. Thomas Francis</td>\n",
       "      <td>male</td>\n",
       "      <td>62.0</td>\n",
       "      <td>0</td>\n",
       "      <td>0</td>\n",
       "      <td>240276</td>\n",
       "      <td>9.6875</td>\n",
       "      <td>NaN</td>\n",
       "      <td>Q</td>\n",
       "    </tr>\n",
       "    <tr>\n",
       "      <td>3</td>\n",
       "      <td>895</td>\n",
       "      <td>3</td>\n",
       "      <td>Wirz, Mr. Albert</td>\n",
       "      <td>male</td>\n",
       "      <td>27.0</td>\n",
       "      <td>0</td>\n",
       "      <td>0</td>\n",
       "      <td>315154</td>\n",
       "      <td>8.6625</td>\n",
       "      <td>NaN</td>\n",
       "      <td>S</td>\n",
       "    </tr>\n",
       "    <tr>\n",
       "      <td>4</td>\n",
       "      <td>896</td>\n",
       "      <td>3</td>\n",
       "      <td>Hirvonen, Mrs. Alexander (Helga E Lindqvist)</td>\n",
       "      <td>female</td>\n",
       "      <td>22.0</td>\n",
       "      <td>1</td>\n",
       "      <td>1</td>\n",
       "      <td>3101298</td>\n",
       "      <td>12.2875</td>\n",
       "      <td>NaN</td>\n",
       "      <td>S</td>\n",
       "    </tr>\n",
       "  </tbody>\n",
       "</table>\n",
       "</div>"
      ],
      "text/plain": [
       "   PassengerId  Pclass                                          Name     Sex  \\\n",
       "0          892       3                              Kelly, Mr. James    male   \n",
       "1          893       3              Wilkes, Mrs. James (Ellen Needs)  female   \n",
       "2          894       2                     Myles, Mr. Thomas Francis    male   \n",
       "3          895       3                              Wirz, Mr. Albert    male   \n",
       "4          896       3  Hirvonen, Mrs. Alexander (Helga E Lindqvist)  female   \n",
       "\n",
       "    Age  SibSp  Parch   Ticket     Fare Cabin Embarked  \n",
       "0  34.5      0      0   330911   7.8292   NaN        Q  \n",
       "1  47.0      1      0   363272   7.0000   NaN        S  \n",
       "2  62.0      0      0   240276   9.6875   NaN        Q  \n",
       "3  27.0      0      0   315154   8.6625   NaN        S  \n",
       "4  22.0      1      1  3101298  12.2875   NaN        S  "
      ]
     },
     "execution_count": 3,
     "metadata": {},
     "output_type": "execute_result"
    }
   ],
   "source": [
    "test_data = pd.read_csv(\"/kaggle/input/titanic/test.csv\")\n",
    "test_data.head()"
   ]
  },
  {
   "cell_type": "code",
   "execution_count": 4,
   "metadata": {
    "_cell_guid": "441da5c4-bf54-4359-a4aa-c5c26c02221e",
    "_uuid": "c7dbbef7-7e59-472a-9350-a82257c0e011",
    "collapsed": false,
    "execution": {
     "iopub.execute_input": "2024-09-26T00:40:37.197770Z",
     "iopub.status.busy": "2024-09-26T00:40:37.197346Z",
     "iopub.status.idle": "2024-09-26T00:40:37.363311Z",
     "shell.execute_reply": "2024-09-26T00:40:37.362268Z",
     "shell.execute_reply.started": "2024-09-26T00:40:37.197664Z"
    },
    "jupyter": {
     "outputs_hidden": false
    }
   },
   "outputs": [
    {
     "data": {
      "text/plain": [
       "RandomForestClassifier(bootstrap=True, class_weight=None, criterion='gini',\n",
       "                       max_depth=5, max_features='auto', max_leaf_nodes=None,\n",
       "                       min_impurity_decrease=0.0, min_impurity_split=None,\n",
       "                       min_samples_leaf=1, min_samples_split=2,\n",
       "                       min_weight_fraction_leaf=0.0, n_estimators=100,\n",
       "                       n_jobs=None, oob_score=False, random_state=1, verbose=0,\n",
       "                       warm_start=False)"
      ]
     },
     "execution_count": 4,
     "metadata": {},
     "output_type": "execute_result"
    }
   ],
   "source": [
    "y = train_data[\"Survived\"]\n",
    "\n",
    "features = [\"Pclass\", \"Sex\", \"SibSp\", \"Parch\"]\n",
    "X = pd.get_dummies(train_data[features])\n",
    "X_test = pd.get_dummies(test_data[features])\n",
    "\n",
    "model = RandomForestClassifier(n_estimators=100, max_depth=5, random_state=1)\n",
    "model.fit(X, y)"
   ]
  },
  {
   "cell_type": "code",
   "execution_count": 5,
   "metadata": {
    "_cell_guid": "04463323-4acb-4f7f-bc13-742fdbdb6565",
    "_uuid": "48e6af63-edc6-4db8-b0a1-92d5b1d5c446",
    "collapsed": false,
    "execution": {
     "iopub.execute_input": "2024-09-26T00:40:37.367889Z",
     "iopub.status.busy": "2024-09-26T00:40:37.367501Z",
     "iopub.status.idle": "2024-09-26T00:40:37.394201Z",
     "shell.execute_reply": "2024-09-26T00:40:37.392891Z",
     "shell.execute_reply.started": "2024-09-26T00:40:37.367833Z"
    },
    "jupyter": {
     "outputs_hidden": false
    }
   },
   "outputs": [
    {
     "name": "stdout",
     "output_type": "stream",
     "text": [
      "Training Accuracy: 81.59 %\n"
     ]
    }
   ],
   "source": [
    "# Evaluate the model on the training set\n",
    "y_train_pred = model.predict(X)\n",
    "train_accuracy = accuracy_score(y, y_train_pred)\n",
    "\n",
    "print(f\"Training Accuracy: {train_accuracy * 100:.2f} %\")"
   ]
  },
  {
   "cell_type": "code",
   "execution_count": 6,
   "metadata": {
    "_cell_guid": "30a3bb28-b1af-4902-b5c4-27bdf48347d8",
    "_uuid": "9b1ae30d-ee13-4611-a357-e9e478ee6671",
    "collapsed": false,
    "execution": {
     "iopub.execute_input": "2024-09-26T00:40:37.396878Z",
     "iopub.status.busy": "2024-09-26T00:40:37.396475Z",
     "iopub.status.idle": "2024-09-26T00:40:38.080290Z",
     "shell.execute_reply": "2024-09-26T00:40:38.079225Z",
     "shell.execute_reply.started": "2024-09-26T00:40:37.396797Z"
    },
    "jupyter": {
     "outputs_hidden": false
    }
   },
   "outputs": [
    {
     "name": "stdout",
     "output_type": "stream",
     "text": [
      "Cross-validation scores: [0.76536313 0.80446927 0.80898876 0.79213483 0.82485876]\n",
      "Mean CV score: 79.92 %\n"
     ]
    }
   ],
   "source": [
    "# Cross-validation. To get a more reliable estimate of your model's performance:\n",
    "cv_scores = cross_val_score(model, X, y, cv=5)\n",
    "\n",
    "print(f\"Cross-validation scores: {cv_scores}\")\n",
    "print(f\"Mean CV score: {cv_scores.mean() * 100:.2f} %\")"
   ]
  },
  {
   "cell_type": "code",
   "execution_count": 7,
   "metadata": {
    "_cell_guid": "b10c6c9a-3c02-4b3a-923a-889ce3ce1634",
    "_uuid": "8662bd9e-d2fc-4fd3-8559-98e1777f1dd4",
    "collapsed": false,
    "execution": {
     "iopub.execute_input": "2024-09-26T00:40:38.082176Z",
     "iopub.status.busy": "2024-09-26T00:40:38.081829Z",
     "iopub.status.idle": "2024-09-26T00:40:38.406059Z",
     "shell.execute_reply": "2024-09-26T00:40:38.404927Z",
     "shell.execute_reply.started": "2024-09-26T00:40:38.082115Z"
    },
    "jupyter": {
     "outputs_hidden": false
    }
   },
   "outputs": [
    {
     "name": "stdout",
     "output_type": "stream",
     "text": [
      "Confusion matrix: [[492  57]\n",
      " [107 235]]\n"
     ]
    },
    {
     "data": {
      "image/png": "[encoded data removed]",
      "text/plain": [
       "<Figure size 432x288 with 2 Axes>"
      ]
     },
     "metadata": {
      "needs_background": "light"
     },
     "output_type": "display_data"
    }
   ],
   "source": [
    "# Confusion Matrix. To understand the types of errors your model is making:\n",
    "cm = confusion_matrix(y, y_train_pred)\n",
    "\n",
    "print(f\"Confusion matrix: {cm}\")\n",
    "\n",
    "sns.heatmap(cm, annot=True, fmt=\"d\")\n",
    "\n",
    "plt.ylabel(\"Actual\")\n",
    "plt.xlabel(\"Predicted\")\n",
    "plt.show()"
   ]
  },
  {
   "cell_type": "code",
   "execution_count": 8,
   "metadata": {
    "_cell_guid": "f1669c79-b3cc-4c76-9348-0dd6117fbdc4",
    "_uuid": "f1297017-69ca-4573-8035-6ded0b3a71d6",
    "collapsed": false,
    "execution": {
     "iopub.execute_input": "2024-09-26T00:40:38.407967Z",
     "iopub.status.busy": "2024-09-26T00:40:38.407542Z",
     "iopub.status.idle": "2024-09-26T00:40:38.436955Z",
     "shell.execute_reply": "2024-09-26T00:40:38.435911Z",
     "shell.execute_reply.started": "2024-09-26T00:40:38.407901Z"
    },
    "jupyter": {
     "outputs_hidden": false
    }
   },
   "outputs": [
    {
     "name": "stdout",
     "output_type": "stream",
     "text": [
      "      feature  importance\n",
      "3  Sex_female    0.342297\n",
      "4    Sex_male    0.284667\n",
      "0      Pclass    0.215508\n",
      "2       Parch    0.080406\n",
      "1       SibSp    0.077122\n"
     ]
    }
   ],
   "source": [
    "# Feature Importance. Analyze which features are most influential in model's decisions.\n",
    "\n",
    "feature_importance = pd.DataFrame(\n",
    "    {\"feature\": X.columns, \"importance\": model.feature_importances_}\n",
    ")\n",
    "\n",
    "feature_importance = feature_importance.sort_values(\"importance\", ascending=False)\n",
    "\n",
    "print(feature_importance)"
   ]
  },
  {
   "cell_type": "code",
   "execution_count": 9,
   "metadata": {
    "_cell_guid": "6a1c0ec9-b0cf-4aa0-aa01-59483a82d001",
    "_uuid": "529227d7-aae9-40b2-8bd1-3c2452a3ecad",
    "collapsed": false,
    "execution": {
     "iopub.execute_input": "2024-09-26T00:40:38.439078Z",
     "iopub.status.busy": "2024-09-26T00:40:38.438744Z",
     "iopub.status.idle": "2024-09-26T00:41:44.313617Z",
     "shell.execute_reply": "2024-09-26T00:41:44.312490Z",
     "shell.execute_reply.started": "2024-09-26T00:40:38.439015Z"
    },
    "jupyter": {
     "outputs_hidden": false
    }
   },
   "outputs": [
    {
     "name": "stdout",
     "output_type": "stream",
     "text": [
      "Fitting 5 folds for each of 100 candidates, totalling 500 fits\n"
     ]
    },
    {
     "name": "stderr",
     "output_type": "stream",
     "text": [
      "[Parallel(n_jobs=-1)]: Using backend LokyBackend with 4 concurrent workers.\n",
      "[Parallel(n_jobs=-1)]: Done  33 tasks      | elapsed:    7.1s\n",
      "[Parallel(n_jobs=-1)]: Done 154 tasks      | elapsed:   21.4s\n",
      "[Parallel(n_jobs=-1)]: Done 357 tasks      | elapsed:   48.2s\n",
      "[Parallel(n_jobs=-1)]: Done 500 out of 500 | elapsed:  1.1min finished\n"
     ]
    },
    {
     "name": "stdout",
     "output_type": "stream",
     "text": [
      "Best parameters: {'max_depth': 4, 'max_features': 'sqrt', 'min_samples_leaf': 2, 'min_samples_split': 3, 'n_estimators': 251}\n",
      "Best cross-validation score: 0.8080808080808081\n"
     ]
    }
   ],
   "source": [
    "# RandomizedSearchCV\n",
    "# Define the parameter distribution\n",
    "param_dist = {\n",
    "    \"n_estimators\": randint(50, 500),\n",
    "    \"max_depth\": randint(1, 20),\n",
    "    \"min_samples_split\": randint(2, 11),\n",
    "    \"min_samples_leaf\": randint(1, 11),\n",
    "    \"max_features\": [\"auto\", \"sqrt\", \"log2\"],\n",
    "}\n",
    "\n",
    "# Create a random forest classifier\n",
    "rf = RandomForestClassifier()\n",
    "\n",
    "# Set up RandomizedSearchCV\n",
    "random_search = RandomizedSearchCV(\n",
    "    estimator=rf,\n",
    "    param_distributions=param_dist,\n",
    "    n_iter=100,  # number of parameter settings sampled\n",
    "    cv=5,  # 5-fold cross-validation\n",
    "    verbose=2,\n",
    "    random_state=42,\n",
    "    n_jobs=-1,  # use all available cores\n",
    ")\n",
    "\n",
    "# Fit the random search object to the data\n",
    "random_search.fit(X, y)\n",
    "\n",
    "# Print the best parameters and score\n",
    "print(\"Best parameters:\", random_search.best_params_)\n",
    "print(\"Best cross-validation score:\", random_search.best_score_)"
   ]
  },
  {
   "cell_type": "code",
   "execution_count": 10,
   "metadata": {
    "_cell_guid": "6d9bb255-40d9-41e1-8a75-b2355f130465",
    "_uuid": "5d1995f6-1d10-4e1f-883e-5c51a3eb0f20",
    "collapsed": false,
    "execution": {
     "iopub.execute_input": "2024-09-26T00:41:44.315967Z",
     "iopub.status.busy": "2024-09-26T00:41:44.315539Z",
     "iopub.status.idle": "2024-09-26T00:41:44.670709Z",
     "shell.execute_reply": "2024-09-26T00:41:44.669593Z",
     "shell.execute_reply.started": "2024-09-26T00:41:44.315886Z"
    },
    "jupyter": {
     "outputs_hidden": false
    }
   },
   "outputs": [
    {
     "data": {
      "text/plain": [
       "RandomForestClassifier(bootstrap=True, class_weight=None, criterion='gini',\n",
       "                       max_depth=3, max_features='sqrt', max_leaf_nodes=None,\n",
       "                       min_impurity_decrease=0.0, min_impurity_split=None,\n",
       "                       min_samples_leaf=3, min_samples_split=2,\n",
       "                       min_weight_fraction_leaf=0.0, n_estimators=276,\n",
       "                       n_jobs=None, oob_score=False, random_state=None,\n",
       "                       verbose=0, warm_start=False)"
      ]
     },
     "execution_count": 10,
     "metadata": {},
     "output_type": "execute_result"
    }
   ],
   "source": [
    "model = RandomForestClassifier(\n",
    "    max_depth=3,\n",
    "    max_features=\"sqrt\",\n",
    "    min_samples_leaf=3,\n",
    "    min_samples_split=2,\n",
    "    n_estimators=276,\n",
    ")\n",
    "\n",
    "model.fit(X, y)"
   ]
  },
  {
   "cell_type": "code",
   "execution_count": 11,
   "metadata": {
    "_cell_guid": "26c1f036-99c8-443d-979c-2cde13d1dc7a",
    "_uuid": "d0db599d-2f02-46f2-a930-638e4e45ce97",
    "collapsed": false,
    "execution": {
     "iopub.execute_input": "2024-09-26T00:41:44.673027Z",
     "iopub.status.busy": "2024-09-26T00:41:44.672644Z",
     "iopub.status.idle": "2024-09-26T00:41:46.393276Z",
     "shell.execute_reply": "2024-09-26T00:41:46.392361Z",
     "shell.execute_reply.started": "2024-09-26T00:41:44.672968Z"
    },
    "jupyter": {
     "outputs_hidden": false
    }
   },
   "outputs": [
    {
     "name": "stdout",
     "output_type": "stream",
     "text": [
      "Cross-validation scores: [0.81564246 0.81005587 0.80898876 0.78651685 0.8079096 ]\n",
      "Mean CV score: 80.58 %\n",
      "Mean CV score improvement: 0.67 %\n"
     ]
    }
   ],
   "source": [
    "# Cross-validation after tuning\n",
    "cv_scores_after_tuning = cross_val_score(model, X, y, cv=5)\n",
    "\n",
    "print(f\"Cross-validation scores: {cv_scores_after_tuning}\")\n",
    "\n",
    "cv_scores_after_tuning_mean_cv = cv_scores_after_tuning.mean()\n",
    "\n",
    "print(f\"Mean CV score: {cv_scores_after_tuning_mean_cv * 100:.2f} %\")\n",
    "\n",
    "print(\n",
    "    f\"Mean CV score improvement: {(cv_scores_after_tuning_mean_cv - cv_scores.mean()) * 100:.2f} %\"\n",
    ")"
   ]
  },
  {
   "cell_type": "code",
   "execution_count": 12,
   "metadata": {
    "_cell_guid": "fdc04d04-732f-4ca8-8912-145ebe34b053",
    "_uuid": "323ba903-641d-4d21-92ce-66de0264e909",
    "collapsed": false,
    "execution": {
     "iopub.execute_input": "2024-09-26T00:41:46.395598Z",
     "iopub.status.busy": "2024-09-26T00:41:46.395219Z",
     "iopub.status.idle": "2024-09-26T00:41:48.714890Z",
     "shell.execute_reply": "2024-09-26T00:41:48.713853Z",
     "shell.execute_reply.started": "2024-09-26T00:41:46.395528Z"
    },
    "jupyter": {
     "outputs_hidden": false
    }
   },
   "outputs": [
    {
     "name": "stdout",
     "output_type": "stream",
     "text": [
      "Your submission was successfully saved!\n"
     ]
    }
   ],
   "source": [
    "# Evaluate the model on the test set\n",
    "predictions = model.predict(X_test)\n",
    "\n",
    "output = pd.DataFrame({\"PassengerId\": test_data.PassengerId, \"Survived\": predictions})\n",
    "output.to_csv(\"submission.csv\", index=False)\n",
    "print(\"Your submission was successfully saved!\")"
   ]
  }
 ],
 "metadata": {
  "kaggle": {
   "accelerator": "none",
   "dataSources": [
    {
     "databundleVersionId": 26502,
     "sourceId": 3136,
     "sourceType": "competition"
    }
   ],
   "dockerImageVersionId": 29507,
   "isGpuEnabled": false,
   "isInternetEnabled": false,
   "language": "python",
   "sourceType": "notebook"
  },
  "kernelspec": {
   "display_name": "Python 3",
   "language": "python",
   "name": "python3"
  },
  "language_info": {
   "codemirror_mode": {
    "name": "ipython",
    "version": 3
   },
   "file_extension": ".py",
   "mimetype": "text/x-python",
   "name": "python",
   "nbconvert_exporter": "python",
   "pygments_lexer": "ipython3",
   "version": "3.6.6"
  }
 },
 "nbformat": 4,
 "nbformat_minor": 4
}
